{
  "nbformat": 4,
  "nbformat_minor": 0,
  "metadata": {
    "colab": {
      "name": "test1.ipynb",
      "provenance": [],
      "collapsed_sections": [],
      "authorship_tag": "ABX9TyO9k0FeaLqq2MU8NSt/ao8r",
      "include_colab_link": true
    },
    "kernelspec": {
      "name": "python3",
      "display_name": "Python 3"
    },
    "language_info": {
      "name": "python"
    }
  },
  "cells": [
    {
      "cell_type": "markdown",
      "metadata": {
        "id": "view-in-github",
        "colab_type": "text"
      },
      "source": [
        "<a href=\"https://colab.research.google.com/github/PeterYves/sample/blob/main/test1.ipynb\" target=\"_parent\"><img src=\"https://colab.research.google.com/assets/colab-badge.svg\" alt=\"Open In Colab\"/></a>"
      ]
    },
    {
      "cell_type": "code",
      "source": [
        "a = 7+6\n",
        "print(a)"
      ],
      "metadata": {
        "colab": {
          "base_uri": "https://localhost:8080/"
        },
        "id": "oynfc3zoN1ho",
        "outputId": "db947210-49aa-4d62-87ae-d222ad316337"
      },
      "execution_count": null,
      "outputs": [
        {
          "output_type": "stream",
          "name": "stdout",
          "text": [
            "13\n"
          ]
        }
      ]
    },
    {
      "cell_type": "code",
      "source": [
        "print(type(7))\n",
        "print(type(9))\n",
        "print(type(7*9))"
      ],
      "metadata": {
        "colab": {
          "base_uri": "https://localhost:8080/"
        },
        "id": "9JhW3CGZdbh4",
        "outputId": "2e451189-a095-4261-fb70-fc06c1c988b8"
      },
      "execution_count": null,
      "outputs": [
        {
          "output_type": "stream",
          "name": "stdout",
          "text": [
            "<class 'int'>\n",
            "<class 'int'>\n",
            "<class 'int'>\n"
          ]
        }
      ]
    },
    {
      "cell_type": "code",
      "source": [
        "student_name = \"Alice\"\n",
        "student_age = 19\n",
        "print(\"My name is {1}-san. And i'm {0}years old.\".format(student_name, student_age))"
      ],
      "metadata": {
        "colab": {
          "base_uri": "https://localhost:8080/"
        },
        "id": "N4BjSHAzi_2I",
        "outputId": "d47ab5f5-7e5f-458b-a5ea-0d33abd896a0"
      },
      "execution_count": null,
      "outputs": [
        {
          "output_type": "stream",
          "name": "stdout",
          "text": [
            "My name is 19-san. And i'm Aliceyears old.\n"
          ]
        }
      ]
    },
    {
      "cell_type": "code",
      "source": [
        "today_temperature = 3.53\n",
        "tomorrow_temperature = -5.27\n",
        "print(\"今日の最低気温は{:+.1f}、明日の最低気温は{:.1f}です。\".format(today_temperature, tomorrow_temperature))"
      ],
      "metadata": {
        "colab": {
          "base_uri": "https://localhost:8080/"
        },
        "id": "1_x7GWNwMGDH",
        "outputId": "988f3420-4e99-4bf0-a1ee-40af37b76ac1"
      },
      "execution_count": null,
      "outputs": [
        {
          "output_type": "stream",
          "name": "stdout",
          "text": [
            "今日の最低気温は+3.5、明日の最低気温は-5.3です。\n"
          ]
        }
      ]
    },
    {
      "cell_type": "code",
      "source": [
        "student_age = 19\n",
        "print(\"my ages are\", student_age, sep=\":\")"
      ],
      "metadata": {
        "colab": {
          "base_uri": "https://localhost:8080/"
        },
        "id": "cv-vHUf9e3PA",
        "outputId": "55b397fa-ad8a-4e2f-cc1c-adcf2499d3b6"
      },
      "execution_count": null,
      "outputs": [
        {
          "output_type": "stream",
          "name": "stdout",
          "text": [
            "my ages are:19\n"
          ]
        }
      ]
    },
    {
      "cell_type": "code",
      "source": [
        "def sample_function(x, y):\n",
        "  answer = (x+y) * 2\n",
        "  return answer\n",
        "\n",
        "print(sample_function(3, 5))\n",
        "print(sample_function(10, 3))\n",
        "print(sample_function(-20, -10))"
      ],
      "metadata": {
        "colab": {
          "base_uri": "https://localhost:8080/"
        },
        "id": "6nDwz-GrTApu",
        "outputId": "4e5cab57-5e1c-46a9-e50f-330171582ce9"
      },
      "execution_count": null,
      "outputs": [
        {
          "output_type": "stream",
          "name": "stdout",
          "text": [
            "16\n",
            "26\n",
            "-60\n"
          ]
        }
      ]
    }
  ]
}